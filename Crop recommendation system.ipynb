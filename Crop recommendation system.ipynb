{
  "cells": [
    {
      "cell_type": "code",
      "execution_count": null,
      "id": "68fe8a53-a5c2-40e5-a082-ec45a01e39ce",
      "metadata": {
        "id": "68fe8a53-a5c2-40e5-a082-ec45a01e39ce"
      },
      "outputs": [],
      "source": [
        "\n",
        "import pandas as pd\n",
        "import numpy as np\n",
        "import seaborn as sns\n",
        "import matplotlib.pyplot as plt\n",
        "\n",
        "\n"
      ]
    },
    {
      "cell_type": "code",
      "execution_count": 3,
      "id": "5ec8fc6f-caa0-4c44-98a2-5a3c482e7753",
      "metadata": {
        "colab": {
          "base_uri": "https://localhost:8080/"
        },
        "id": "5ec8fc6f-caa0-4c44-98a2-5a3c482e7753",
        "outputId": "699259fb-9525-414e-95d1-1cebcfde2544"
      },
      "outputs": [
        {
          "name": "stdout",
          "output_type": "stream",
          "text": [
            "Dataset loaded successfully!\n"
          ]
        }
      ],
      "source": [
        "import pandas as pd\n",
        "\n",
        "# Load the CSV file\n",
        "crop = pd.read_csv(\"Crop_recommendation.csv\")\n",
        "\n",
        "# Confirm that the dataset is loaded\n",
        "print(\"Dataset loaded successfully!\")"
      ]
    },
    {
      "cell_type": "code",
      "execution_count": 4,
      "id": "2573a746",
      "metadata": {},
      "outputs": [
        {
          "name": "stdout",
          "output_type": "stream",
          "text": [
            "Error during preprocessing: name 'sc' is not defined\n",
            "Error during prediction: name 'model' is not defined\n"
          ]
        }
      ],
      "source": [
        "# Test input (replace with realistic values)\n",
        "test_input = np.array([[50, 30, 20, 25.5, 80, 6.5, 200]])  # Example: N, P, K, Temp, Humidity, pH, Rainfall\n",
        "\n",
        "# Preprocess the input\n",
        "try:\n",
        "    test_input_scaled = sc.transform(test_input)\n",
        "    test_input_normalized = mx.transform(test_input_scaled)\n",
        "    print(\"Input preprocessing successful.\")\n",
        "except Exception as e:\n",
        "    print(f\"Error during preprocessing: {e}\")\n",
        "\n",
        "# Make prediction\n",
        "try:\n",
        "    prediction = model.predict(test_input_normalized)\n",
        "    print(f\"Predicted crop: {prediction[0]}\")\n",
        "except Exception as e:\n",
        "    print(f\"Error during prediction: {e}\")"
      ]
    },
    {
      "cell_type": "code",
      "execution_count": 5,
      "id": "4cea52ba-9921-474a-aa74-31e5b3883448",
      "metadata": {
        "colab": {
          "base_uri": "https://localhost:8080/",
          "height": 206
        },
        "id": "4cea52ba-9921-474a-aa74-31e5b3883448",
        "outputId": "1f6ae56b-909f-4868-94a7-b77bf5c4cc53"
      },
      "outputs": [
        {
          "data": {
            "text/html": [
              "<div>\n",
              "<style scoped>\n",
              "    .dataframe tbody tr th:only-of-type {\n",
              "        vertical-align: middle;\n",
              "    }\n",
              "\n",
              "    .dataframe tbody tr th {\n",
              "        vertical-align: top;\n",
              "    }\n",
              "\n",
              "    .dataframe thead th {\n",
              "        text-align: right;\n",
              "    }\n",
              "</style>\n",
              "<table border=\"1\" class=\"dataframe\">\n",
              "  <thead>\n",
              "    <tr style=\"text-align: right;\">\n",
              "      <th></th>\n",
              "      <th>N</th>\n",
              "      <th>P</th>\n",
              "      <th>K</th>\n",
              "      <th>temperature</th>\n",
              "      <th>humidity</th>\n",
              "      <th>ph</th>\n",
              "      <th>rainfall</th>\n",
              "      <th>label</th>\n",
              "    </tr>\n",
              "  </thead>\n",
              "  <tbody>\n",
              "    <tr>\n",
              "      <th>0</th>\n",
              "      <td>90</td>\n",
              "      <td>42</td>\n",
              "      <td>43</td>\n",
              "      <td>20.879744</td>\n",
              "      <td>82.002744</td>\n",
              "      <td>6.502985</td>\n",
              "      <td>202.935536</td>\n",
              "      <td>rice</td>\n",
              "    </tr>\n",
              "    <tr>\n",
              "      <th>1</th>\n",
              "      <td>85</td>\n",
              "      <td>58</td>\n",
              "      <td>41</td>\n",
              "      <td>21.770462</td>\n",
              "      <td>80.319644</td>\n",
              "      <td>7.038096</td>\n",
              "      <td>226.655537</td>\n",
              "      <td>rice</td>\n",
              "    </tr>\n",
              "    <tr>\n",
              "      <th>2</th>\n",
              "      <td>60</td>\n",
              "      <td>55</td>\n",
              "      <td>44</td>\n",
              "      <td>23.004459</td>\n",
              "      <td>82.320763</td>\n",
              "      <td>7.840207</td>\n",
              "      <td>263.964248</td>\n",
              "      <td>rice</td>\n",
              "    </tr>\n",
              "    <tr>\n",
              "      <th>3</th>\n",
              "      <td>74</td>\n",
              "      <td>35</td>\n",
              "      <td>40</td>\n",
              "      <td>26.491096</td>\n",
              "      <td>80.158363</td>\n",
              "      <td>6.980401</td>\n",
              "      <td>242.864034</td>\n",
              "      <td>rice</td>\n",
              "    </tr>\n",
              "    <tr>\n",
              "      <th>4</th>\n",
              "      <td>78</td>\n",
              "      <td>42</td>\n",
              "      <td>42</td>\n",
              "      <td>20.130175</td>\n",
              "      <td>81.604873</td>\n",
              "      <td>7.628473</td>\n",
              "      <td>262.717340</td>\n",
              "      <td>rice</td>\n",
              "    </tr>\n",
              "  </tbody>\n",
              "</table>\n",
              "</div>"
            ],
            "text/plain": [
              "    N   P   K  temperature   humidity        ph    rainfall label\n",
              "0  90  42  43    20.879744  82.002744  6.502985  202.935536  rice\n",
              "1  85  58  41    21.770462  80.319644  7.038096  226.655537  rice\n",
              "2  60  55  44    23.004459  82.320763  7.840207  263.964248  rice\n",
              "3  74  35  40    26.491096  80.158363  6.980401  242.864034  rice\n",
              "4  78  42  42    20.130175  81.604873  7.628473  262.717340  rice"
            ]
          },
          "execution_count": 5,
          "metadata": {},
          "output_type": "execute_result"
        }
      ],
      "source": [
        "crop.head()  # Shows the first 5 rows\n"
      ]
    },
    {
      "cell_type": "code",
      "execution_count": 6,
      "id": "ff3542a2-5ace-4bcd-9a0a-6e316033c56f",
      "metadata": {
        "id": "ff3542a2-5ace-4bcd-9a0a-6e316033c56f",
        "outputId": "cfaf794e-45a2-4277-d731-0bddb6389863"
      },
      "outputs": [
        {
          "data": {
            "text/plain": [
              "(2200, 8)"
            ]
          },
          "execution_count": 6,
          "metadata": {},
          "output_type": "execute_result"
        }
      ],
      "source": [
        "crop.shape"
      ]
    },
    {
      "cell_type": "code",
      "execution_count": 7,
      "id": "01271d98-cff3-4aeb-84e2-f96fe463028b",
      "metadata": {
        "id": "01271d98-cff3-4aeb-84e2-f96fe463028b",
        "outputId": "3da0b521-499e-4741-df04-2238f2829713"
      },
      "outputs": [
        {
          "data": {
            "text/plain": [
              "<bound method DataFrame.info of         N   P   K  temperature   humidity        ph    rainfall   label\n",
              "0      90  42  43    20.879744  82.002744  6.502985  202.935536    rice\n",
              "1      85  58  41    21.770462  80.319644  7.038096  226.655537    rice\n",
              "2      60  55  44    23.004459  82.320763  7.840207  263.964248    rice\n",
              "3      74  35  40    26.491096  80.158363  6.980401  242.864034    rice\n",
              "4      78  42  42    20.130175  81.604873  7.628473  262.717340    rice\n",
              "...   ...  ..  ..          ...        ...       ...         ...     ...\n",
              "2195  107  34  32    26.774637  66.413269  6.780064  177.774507  coffee\n",
              "2196   99  15  27    27.417112  56.636362  6.086922  127.924610  coffee\n",
              "2197  118  33  30    24.131797  67.225123  6.362608  173.322839  coffee\n",
              "2198  117  32  34    26.272418  52.127394  6.758793  127.175293  coffee\n",
              "2199  104  18  30    23.603016  60.396475  6.779833  140.937041  coffee\n",
              "\n",
              "[2200 rows x 8 columns]>"
            ]
          },
          "execution_count": 7,
          "metadata": {},
          "output_type": "execute_result"
        }
      ],
      "source": [
        "crop.info"
      ]
    },
    {
      "cell_type": "code",
      "execution_count": 8,
      "id": "3e993cc3-e100-4663-ae13-ee7be371e124",
      "metadata": {
        "colab": {
          "base_uri": "https://localhost:8080/",
          "height": 335
        },
        "id": "3e993cc3-e100-4663-ae13-ee7be371e124",
        "outputId": "d65f80ad-972f-4988-bdb8-4b65bc23011e"
      },
      "outputs": [
        {
          "data": {
            "text/plain": [
              "N              0\n",
              "P              0\n",
              "K              0\n",
              "temperature    0\n",
              "humidity       0\n",
              "ph             0\n",
              "rainfall       0\n",
              "label          0\n",
              "dtype: int64"
            ]
          },
          "execution_count": 8,
          "metadata": {},
          "output_type": "execute_result"
        }
      ],
      "source": [
        "crop.isnull().sum() #checking for null values in the dataset"
      ]
    },
    {
      "cell_type": "code",
      "execution_count": 9,
      "id": "920a1930-39c0-467f-bf2a-4237459d1096",
      "metadata": {
        "colab": {
          "base_uri": "https://localhost:8080/"
        },
        "id": "920a1930-39c0-467f-bf2a-4237459d1096",
        "outputId": "c2a8c1b7-61a5-49a5-8e41-fc07cbb109c7"
      },
      "outputs": [
        {
          "data": {
            "text/plain": [
              "np.int64(0)"
            ]
          },
          "execution_count": 9,
          "metadata": {},
          "output_type": "execute_result"
        }
      ],
      "source": [
        "crop.duplicated().sum()"
      ]
    },
    {
      "cell_type": "code",
      "execution_count": 10,
      "id": "ede99dd6-b4f8-429d-a8e7-1241dc814d0c",
      "metadata": {
        "id": "ede99dd6-b4f8-429d-a8e7-1241dc814d0c",
        "outputId": "14a381fe-3c3d-4fce-99b6-b805be913a83",
        "scrolled": true
      },
      "outputs": [
        {
          "data": {
            "text/html": [
              "<div>\n",
              "<style scoped>\n",
              "    .dataframe tbody tr th:only-of-type {\n",
              "        vertical-align: middle;\n",
              "    }\n",
              "\n",
              "    .dataframe tbody tr th {\n",
              "        vertical-align: top;\n",
              "    }\n",
              "\n",
              "    .dataframe thead th {\n",
              "        text-align: right;\n",
              "    }\n",
              "</style>\n",
              "<table border=\"1\" class=\"dataframe\">\n",
              "  <thead>\n",
              "    <tr style=\"text-align: right;\">\n",
              "      <th></th>\n",
              "      <th>N</th>\n",
              "      <th>P</th>\n",
              "      <th>K</th>\n",
              "      <th>temperature</th>\n",
              "      <th>humidity</th>\n",
              "      <th>ph</th>\n",
              "      <th>rainfall</th>\n",
              "    </tr>\n",
              "  </thead>\n",
              "  <tbody>\n",
              "    <tr>\n",
              "      <th>count</th>\n",
              "      <td>2200.000000</td>\n",
              "      <td>2200.000000</td>\n",
              "      <td>2200.000000</td>\n",
              "      <td>2200.000000</td>\n",
              "      <td>2200.000000</td>\n",
              "      <td>2200.000000</td>\n",
              "      <td>2200.000000</td>\n",
              "    </tr>\n",
              "    <tr>\n",
              "      <th>mean</th>\n",
              "      <td>50.551818</td>\n",
              "      <td>53.362727</td>\n",
              "      <td>48.149091</td>\n",
              "      <td>25.616244</td>\n",
              "      <td>71.481779</td>\n",
              "      <td>6.469480</td>\n",
              "      <td>103.463655</td>\n",
              "    </tr>\n",
              "    <tr>\n",
              "      <th>std</th>\n",
              "      <td>36.917334</td>\n",
              "      <td>32.985883</td>\n",
              "      <td>50.647931</td>\n",
              "      <td>5.063749</td>\n",
              "      <td>22.263812</td>\n",
              "      <td>0.773938</td>\n",
              "      <td>54.958389</td>\n",
              "    </tr>\n",
              "    <tr>\n",
              "      <th>min</th>\n",
              "      <td>0.000000</td>\n",
              "      <td>5.000000</td>\n",
              "      <td>5.000000</td>\n",
              "      <td>8.825675</td>\n",
              "      <td>14.258040</td>\n",
              "      <td>3.504752</td>\n",
              "      <td>20.211267</td>\n",
              "    </tr>\n",
              "    <tr>\n",
              "      <th>25%</th>\n",
              "      <td>21.000000</td>\n",
              "      <td>28.000000</td>\n",
              "      <td>20.000000</td>\n",
              "      <td>22.769375</td>\n",
              "      <td>60.261953</td>\n",
              "      <td>5.971693</td>\n",
              "      <td>64.551686</td>\n",
              "    </tr>\n",
              "    <tr>\n",
              "      <th>50%</th>\n",
              "      <td>37.000000</td>\n",
              "      <td>51.000000</td>\n",
              "      <td>32.000000</td>\n",
              "      <td>25.598693</td>\n",
              "      <td>80.473146</td>\n",
              "      <td>6.425045</td>\n",
              "      <td>94.867624</td>\n",
              "    </tr>\n",
              "    <tr>\n",
              "      <th>75%</th>\n",
              "      <td>84.250000</td>\n",
              "      <td>68.000000</td>\n",
              "      <td>49.000000</td>\n",
              "      <td>28.561654</td>\n",
              "      <td>89.948771</td>\n",
              "      <td>6.923643</td>\n",
              "      <td>124.267508</td>\n",
              "    </tr>\n",
              "    <tr>\n",
              "      <th>max</th>\n",
              "      <td>140.000000</td>\n",
              "      <td>145.000000</td>\n",
              "      <td>205.000000</td>\n",
              "      <td>43.675493</td>\n",
              "      <td>99.981876</td>\n",
              "      <td>9.935091</td>\n",
              "      <td>298.560117</td>\n",
              "    </tr>\n",
              "  </tbody>\n",
              "</table>\n",
              "</div>"
            ],
            "text/plain": [
              "                 N            P            K  temperature     humidity  \\\n",
              "count  2200.000000  2200.000000  2200.000000  2200.000000  2200.000000   \n",
              "mean     50.551818    53.362727    48.149091    25.616244    71.481779   \n",
              "std      36.917334    32.985883    50.647931     5.063749    22.263812   \n",
              "min       0.000000     5.000000     5.000000     8.825675    14.258040   \n",
              "25%      21.000000    28.000000    20.000000    22.769375    60.261953   \n",
              "50%      37.000000    51.000000    32.000000    25.598693    80.473146   \n",
              "75%      84.250000    68.000000    49.000000    28.561654    89.948771   \n",
              "max     140.000000   145.000000   205.000000    43.675493    99.981876   \n",
              "\n",
              "                ph     rainfall  \n",
              "count  2200.000000  2200.000000  \n",
              "mean      6.469480   103.463655  \n",
              "std       0.773938    54.958389  \n",
              "min       3.504752    20.211267  \n",
              "25%       5.971693    64.551686  \n",
              "50%       6.425045    94.867624  \n",
              "75%       6.923643   124.267508  \n",
              "max       9.935091   298.560117  "
            ]
          },
          "execution_count": 10,
          "metadata": {},
          "output_type": "execute_result"
        }
      ],
      "source": [
        "crop.describe() #summary statistics"
      ]
    },
    {
      "cell_type": "markdown",
      "id": "6BEyX8HSuFdQ",
      "metadata": {
        "id": "6BEyX8HSuFdQ"
      },
      "source": [
        "Checking for correlations in the data"
      ]
    },
    {
      "cell_type": "code",
      "execution_count": 11,
      "id": "5d93015d-76a9-4523-bbb7-22af34627587",
      "metadata": {
        "colab": {
          "base_uri": "https://localhost:8080/",
          "height": 528
        },
        "id": "5d93015d-76a9-4523-bbb7-22af34627587",
        "outputId": "abcff9b0-bc28-4ba6-b94d-b663706f90b2"
      },
      "outputs": [
        {
          "data": {
            "image/png": "[encoded data removed]",
            "text/plain": [
              "<Figure size 1000x600 with 2 Axes>"
            ]
          },
          "metadata": {},
          "output_type": "display_data"
        }
      ],
      "source": [
        "import pandas as pd\n",
        "import matplotlib.pyplot as plt\n",
        "import seaborn as sns\n",
        "\n",
        "# Drop non-numeric columns automatically\n",
        "corr_matrix = crop.select_dtypes(include=[\"number\"]).corr()\n",
        "\n",
        "# Plot heatmap\n",
        "plt.figure(figsize=(10, 6))\n",
        "sns.heatmap(corr_matrix, annot=True, cmap=\"coolwarm\", cbar=True)\n",
        "plt.show()\n",
        "\n"
      ]
    },
    {
      "cell_type": "code",
      "execution_count": 12,
      "id": "db86a00e-ccd9-4d9b-a862-f4b0bd931db9",
      "metadata": {
        "id": "db86a00e-ccd9-4d9b-a862-f4b0bd931db9",
        "outputId": "8c29091b-e084-41b9-bde3-674ec6453cb7"
      },
      "outputs": [
        {
          "data": {
            "text/plain": [
              "label\n",
              "rice           100\n",
              "maize          100\n",
              "chickpea       100\n",
              "kidneybeans    100\n",
              "pigeonpeas     100\n",
              "mothbeans      100\n",
              "mungbean       100\n",
              "blackgram      100\n",
              "lentil         100\n",
              "pomegranate    100\n",
              "banana         100\n",
              "mango          100\n",
              "grapes         100\n",
              "watermelon     100\n",
              "muskmelon      100\n",
              "apple          100\n",
              "orange         100\n",
              "papaya         100\n",
              "coconut        100\n",
              "cotton         100\n",
              "jute           100\n",
              "coffee         100\n",
              "Name: count, dtype: int64"
            ]
          },
          "execution_count": 12,
          "metadata": {},
          "output_type": "execute_result"
        }
      ],
      "source": [
        "crop.label.value_counts()"
      ]
    },
    {
      "cell_type": "code",
      "execution_count": 13,
      "id": "89070f01-0fbe-44fc-b4e3-aefb893925f3",
      "metadata": {
        "id": "89070f01-0fbe-44fc-b4e3-aefb893925f3",
        "outputId": "a7e4b61d-1ab7-490c-eb42-84effe6e99de"
      },
      "outputs": [
        {
          "data": {
            "image/png": "[encoded data removed]",
            "text/plain": [
              "<Figure size 640x480 with 1 Axes>"
            ]
          },
          "metadata": {},
          "output_type": "display_data"
        }
      ],
      "source": [
        "import matplotlib.pyplot as plt\n",
        "sns.histplot(crop['P'])\n",
        "plt.show()"
      ]
    },
    {
      "cell_type": "code",
      "execution_count": 14,
      "id": "2e75e1c8-ba9c-425a-bfe6-5631525c590b",
      "metadata": {
        "id": "2e75e1c8-ba9c-425a-bfe6-5631525c590b",
        "outputId": "01007bd4-5b2b-4a6d-9fc3-aa6fd3602e44"
      },
      "outputs": [
        {
          "data": {
            "image/png": "[encoded data removed]",
            "text/plain": [
              "<Figure size 640x480 with 1 Axes>"
            ]
          },
          "metadata": {},
          "output_type": "display_data"
        }
      ],
      "source": [
        "import matplotlib.pyplot as plt\n",
        "sns.histplot(crop['N'])\n",
        "plt.show()"
      ]
    },
    {
      "cell_type": "code",
      "execution_count": 15,
      "id": "25ab1078-abca-4b44-a5ba-517612cc477b",
      "metadata": {
        "id": "25ab1078-abca-4b44-a5ba-517612cc477b",
        "outputId": "2df00962-ee0d-4868-cbf9-da82d64d9d3f"
      },
      "outputs": [
        {
          "data": {
            "image/png": "[encoded data removed]",
            "text/plain": [
              "<Figure size 640x480 with 1 Axes>"
            ]
          },
          "metadata": {},
          "output_type": "display_data"
        }
      ],
      "source": [
        "import matplotlib.pyplot as plt\n",
        "sns.histplot(crop['P'])\n",
        "plt.show()"
      ]
    },
    {
      "cell_type": "code",
      "execution_count": 16,
      "id": "969ac3c5-455f-4674-9158-a00c654bcc02",
      "metadata": {
        "id": "969ac3c5-455f-4674-9158-a00c654bcc02",
        "outputId": "e79e53ac-7e0b-4ecd-a85d-3a5b9eaac7ec"
      },
      "outputs": [
        {
          "data": {
            "text/plain": [
              "array(['rice', 'maize', 'chickpea', 'kidneybeans', 'pigeonpeas',\n",
              "       'mothbeans', 'mungbean', 'blackgram', 'lentil', 'pomegranate',\n",
              "       'banana', 'mango', 'grapes', 'watermelon', 'muskmelon', 'apple',\n",
              "       'orange', 'papaya', 'coconut', 'cotton', 'jute', 'coffee'],\n",
              "      dtype=object)"
            ]
          },
          "execution_count": 16,
          "metadata": {},
          "output_type": "execute_result"
        }
      ],
      "source": [
        "crop.label.unique()"
      ]
    },
    {
      "cell_type": "code",
      "execution_count": 17,
      "id": "50451bc5-b5d3-4599-ad05-998063c3ee7e",
      "metadata": {
        "id": "50451bc5-b5d3-4599-ad05-998063c3ee7e"
      },
      "outputs": [],
      "source": [
        "crop['label'] = crop['label'].str.strip()\n"
      ]
    },
    {
      "cell_type": "code",
      "execution_count": 18,
      "id": "0a6669c4-5745-4e91-984e-dfdefb621776",
      "metadata": {
        "id": "0a6669c4-5745-4e91-984e-dfdefb621776"
      },
      "outputs": [],
      "source": [
        "\n",
        "import pandas as pd\n",
        "crop = pd.read_csv(\"Crop_recommendation.csv\")\n",
        "crop_dict= {\n",
        "    'rice': 1,\n",
        "    'maize': 2,\n",
        "    'chickpea': 3,\n",
        "'kidneybeans': 4,\n",
        "'pigeonpeas': 5,\n",
        "'mothbeans': 6,\n",
        "'mungbean': 7,\n",
        "'blackgram': 8,\n",
        "'lentil': 9,\n",
        "'pomegranate': 10,\n",
        "'banana': 11,\n",
        "'mango': 12,\n",
        "'grapes': 13,\n",
        "'watermelon': 14,\n",
        "'muskmelon': 15,\n",
        "'apple': 16,\n",
        "'orange': 17,\n",
        "'papaya': 18,\n",
        "'coconut': 19,\n",
        "'cotton': 20,\n",
        "'jute': 21,\n",
        "'coffee': 22,\n",
        "}\n"
      ]
    },
    {
      "cell_type": "code",
      "execution_count": 19,
      "id": "2af6a61f-3e19-4ee7-bf0f-e804909c94a3",
      "metadata": {
        "id": "2af6a61f-3e19-4ee7-bf0f-e804909c94a3"
      },
      "outputs": [],
      "source": [
        "crop['label'] = crop['label'].map(crop_dict)\n",
        "\n"
      ]
    },
    {
      "cell_type": "code",
      "execution_count": 20,
      "id": "418666c5-04f1-42c9-99be-a94b1ee900c0",
      "metadata": {
        "colab": {
          "base_uri": "https://localhost:8080/"
        },
        "id": "418666c5-04f1-42c9-99be-a94b1ee900c0",
        "outputId": "1f57c003-7941-46c9-e9fe-a9a24f104cb9"
      },
      "outputs": [
        {
          "name": "stdout",
          "output_type": "stream",
          "text": [
            "[ 1  2  3  4  5  6  7  8  9 10 11 12 13 14 15 16 17 18 19 20 21 22]\n",
            "    N   P   K  temperature   humidity        ph    rainfall  label\n",
            "0  90  42  43    20.879744  82.002744  6.502985  202.935536      1\n",
            "1  85  58  41    21.770462  80.319644  7.038096  226.655537      1\n",
            "2  60  55  44    23.004459  82.320763  7.840207  263.964248      1\n",
            "3  74  35  40    26.491096  80.158363  6.980401  242.864034      1\n",
            "4  78  42  42    20.130175  81.604873  7.628473  262.717340      1\n"
          ]
        }
      ],
      "source": [
        "print(crop['label'].unique())  # Should now show numbers instead of crop names\n",
        "print(crop.head())  # Check the first few rows\n"
      ]
    },
    {
      "cell_type": "code",
      "execution_count": 21,
      "id": "c7753cc6-f126-45c3-b345-6167b9ed9596",
      "metadata": {
        "colab": {
          "base_uri": "https://localhost:8080/"
        },
        "id": "c7753cc6-f126-45c3-b345-6167b9ed9596",
        "outputId": "37b2c97b-0f61-4048-afed-fbf3f216d12d"
      },
      "outputs": [
        {
          "data": {
            "text/plain": [
              "array([ 1,  2,  3,  4,  5,  6,  7,  8,  9, 10, 11, 12, 13, 14, 15, 16, 17,\n",
              "       18, 19, 20, 21, 22])"
            ]
          },
          "execution_count": 21,
          "metadata": {},
          "output_type": "execute_result"
        }
      ],
      "source": [
        "crop.label.unique()"
      ]
    },
    {
      "cell_type": "code",
      "execution_count": 22,
      "id": "cbd3dfcc-5d26-4b38-90a5-af0ac92edd4a",
      "metadata": {
        "colab": {
          "base_uri": "https://localhost:8080/",
          "height": 805
        },
        "id": "cbd3dfcc-5d26-4b38-90a5-af0ac92edd4a",
        "outputId": "51a25e6d-7719-41cc-8473-008dc72062ce"
      },
      "outputs": [
        {
          "data": {
            "text/plain": [
              "label\n",
              "1     100\n",
              "2     100\n",
              "3     100\n",
              "4     100\n",
              "5     100\n",
              "6     100\n",
              "7     100\n",
              "8     100\n",
              "9     100\n",
              "10    100\n",
              "11    100\n",
              "12    100\n",
              "13    100\n",
              "14    100\n",
              "15    100\n",
              "16    100\n",
              "17    100\n",
              "18    100\n",
              "19    100\n",
              "20    100\n",
              "21    100\n",
              "22    100\n",
              "Name: count, dtype: int64"
            ]
          },
          "execution_count": 22,
          "metadata": {},
          "output_type": "execute_result"
        }
      ],
      "source": [
        "crop.label.value_counts()"
      ]
    },
    {
      "cell_type": "code",
      "execution_count": 23,
      "id": "000e85c4-9657-42f0-b016-01814b27ab26",
      "metadata": {
        "id": "000e85c4-9657-42f0-b016-01814b27ab26"
      },
      "outputs": [],
      "source": [
        "x=crop.drop('label', axis = 1)\n",
        "y=crop['label']\n"
      ]
    },
    {
      "cell_type": "code",
      "execution_count": 24,
      "id": "862ec27a-491f-4059-a2e6-6ccd1fdad92e",
      "metadata": {
        "colab": {
          "base_uri": "https://localhost:8080/",
          "height": 206
        },
        "id": "862ec27a-491f-4059-a2e6-6ccd1fdad92e",
        "outputId": "0cfd3955-5eed-4d4a-9d7f-a70626c56ed4"
      },
      "outputs": [
        {
          "data": {
            "text/html": [
              "<div>\n",
              "<style scoped>\n",
              "    .dataframe tbody tr th:only-of-type {\n",
              "        vertical-align: middle;\n",
              "    }\n",
              "\n",
              "    .dataframe tbody tr th {\n",
              "        vertical-align: top;\n",
              "    }\n",
              "\n",
              "    .dataframe thead th {\n",
              "        text-align: right;\n",
              "    }\n",
              "</style>\n",
              "<table border=\"1\" class=\"dataframe\">\n",
              "  <thead>\n",
              "    <tr style=\"text-align: right;\">\n",
              "      <th></th>\n",
              "      <th>N</th>\n",
              "      <th>P</th>\n",
              "      <th>K</th>\n",
              "      <th>temperature</th>\n",
              "      <th>humidity</th>\n",
              "      <th>ph</th>\n",
              "      <th>rainfall</th>\n",
              "    </tr>\n",
              "  </thead>\n",
              "  <tbody>\n",
              "    <tr>\n",
              "      <th>0</th>\n",
              "      <td>90</td>\n",
              "      <td>42</td>\n",
              "      <td>43</td>\n",
              "      <td>20.879744</td>\n",
              "      <td>82.002744</td>\n",
              "      <td>6.502985</td>\n",
              "      <td>202.935536</td>\n",
              "    </tr>\n",
              "    <tr>\n",
              "      <th>1</th>\n",
              "      <td>85</td>\n",
              "      <td>58</td>\n",
              "      <td>41</td>\n",
              "      <td>21.770462</td>\n",
              "      <td>80.319644</td>\n",
              "      <td>7.038096</td>\n",
              "      <td>226.655537</td>\n",
              "    </tr>\n",
              "    <tr>\n",
              "      <th>2</th>\n",
              "      <td>60</td>\n",
              "      <td>55</td>\n",
              "      <td>44</td>\n",
              "      <td>23.004459</td>\n",
              "      <td>82.320763</td>\n",
              "      <td>7.840207</td>\n",
              "      <td>263.964248</td>\n",
              "    </tr>\n",
              "    <tr>\n",
              "      <th>3</th>\n",
              "      <td>74</td>\n",
              "      <td>35</td>\n",
              "      <td>40</td>\n",
              "      <td>26.491096</td>\n",
              "      <td>80.158363</td>\n",
              "      <td>6.980401</td>\n",
              "      <td>242.864034</td>\n",
              "    </tr>\n",
              "    <tr>\n",
              "      <th>4</th>\n",
              "      <td>78</td>\n",
              "      <td>42</td>\n",
              "      <td>42</td>\n",
              "      <td>20.130175</td>\n",
              "      <td>81.604873</td>\n",
              "      <td>7.628473</td>\n",
              "      <td>262.717340</td>\n",
              "    </tr>\n",
              "  </tbody>\n",
              "</table>\n",
              "</div>"
            ],
            "text/plain": [
              "    N   P   K  temperature   humidity        ph    rainfall\n",
              "0  90  42  43    20.879744  82.002744  6.502985  202.935536\n",
              "1  85  58  41    21.770462  80.319644  7.038096  226.655537\n",
              "2  60  55  44    23.004459  82.320763  7.840207  263.964248\n",
              "3  74  35  40    26.491096  80.158363  6.980401  242.864034\n",
              "4  78  42  42    20.130175  81.604873  7.628473  262.717340"
            ]
          },
          "execution_count": 24,
          "metadata": {},
          "output_type": "execute_result"
        }
      ],
      "source": [
        "x.head()\n"
      ]
    },
    {
      "cell_type": "code",
      "execution_count": 25,
      "id": "2133f0b8-5762-4d67-9ab1-af750791bc26",
      "metadata": {
        "colab": {
          "base_uri": "https://localhost:8080/",
          "height": 241
        },
        "id": "2133f0b8-5762-4d67-9ab1-af750791bc26",
        "outputId": "6049213d-03ce-4225-cf3c-21438acb7f60"
      },
      "outputs": [
        {
          "data": {
            "text/plain": [
              "0    1\n",
              "1    1\n",
              "2    1\n",
              "3    1\n",
              "4    1\n",
              "Name: label, dtype: int64"
            ]
          },
          "execution_count": 25,
          "metadata": {},
          "output_type": "execute_result"
        }
      ],
      "source": [
        "y.head()\n"
      ]
    },
    {
      "cell_type": "code",
      "execution_count": 26,
      "id": "752ba78e-5ed4-43b6-b31f-3d45a27de459",
      "metadata": {
        "colab": {
          "base_uri": "https://localhost:8080/"
        },
        "id": "752ba78e-5ed4-43b6-b31f-3d45a27de459",
        "outputId": "9907fb4a-8076-4d8b-bffe-32028c06f98d"
      },
      "outputs": [
        {
          "name": "stdout",
          "output_type": "stream",
          "text": [
            "(1760, 7)\n",
            "(1760,)\n"
          ]
        }
      ],
      "source": [
        "from sklearn.model_selection import train_test_split\n",
        "x_train, x_test, y_train, y_test = train_test_split(x,y, test_size = 0.2, random_state=42)\n",
        "\n",
        "print(x_train.shape)\n",
        "print(y_train.shape)\n"
      ]
    },
    {
      "cell_type": "code",
      "execution_count": 27,
      "id": "be6e39fe-d4a9-43e9-b97e-49b3c54f201c",
      "metadata": {
        "id": "be6e39fe-d4a9-43e9-b97e-49b3c54f201c"
      },
      "outputs": [],
      "source": [
        "from sklearn.preprocessing import MinMaxScaler\n",
        "mx = MinMaxScaler()\n",
        "x_train = mx.fit_transform(x_train)\n",
        "x_test = mx.transform(x_test)\n"
      ]
    },
    {
      "cell_type": "code",
      "execution_count": 28,
      "id": "6c4c09a6-72d7-462d-b87d-2dfb98e3f135",
      "metadata": {
        "colab": {
          "base_uri": "https://localhost:8080/"
        },
        "id": "6c4c09a6-72d7-462d-b87d-2dfb98e3f135",
        "outputId": "4ee4973e-8c64-4493-e346-a696c25359b0"
      },
      "outputs": [
        {
          "data": {
            "text/plain": [
              "array([[0.12142857, 0.07857143, 0.045     , ..., 0.9089898 , 0.48532225,\n",
              "        0.29685161],\n",
              "       [0.26428571, 0.52857143, 0.07      , ..., 0.64257946, 0.56594073,\n",
              "        0.17630752],\n",
              "       [0.05      , 0.48571429, 0.1       , ..., 0.57005802, 0.58835229,\n",
              "        0.08931844],\n",
              "       ...,\n",
              "       [0.07857143, 0.22142857, 0.13      , ..., 0.43760347, 0.46198144,\n",
              "        0.28719815],\n",
              "       [0.07857143, 0.85      , 0.995     , ..., 0.76763665, 0.44420505,\n",
              "        0.18346657],\n",
              "       [0.22857143, 0.52142857, 0.085     , ..., 0.56099735, 0.54465022,\n",
              "        0.11879596]], shape=(1760, 7))"
            ]
          },
          "execution_count": 28,
          "metadata": {},
          "output_type": "execute_result"
        }
      ],
      "source": [
        "x_train"
      ]
    },
    {
      "cell_type": "code",
      "execution_count": 29,
      "id": "f0f6eba9-d089-4a7c-817f-ed7b8f1db8ad",
      "metadata": {
        "id": "f0f6eba9-d089-4a7c-817f-ed7b8f1db8ad"
      },
      "outputs": [],
      "source": [
        "from sklearn.linear_model import LogisticRegression\n",
        "from sklearn.naive_bayes import GaussianNB\n",
        "from sklearn.svm import SVC\n",
        "from sklearn.neighbors import KNeighborsClassifier\n",
        "from sklearn.tree import DecisionTreeClassifier\n",
        "from sklearn.tree import DecisionTreeClassifier, ExtraTreeClassifier\n",
        "from sklearn.ensemble import RandomForestClassifier, BaggingClassifier, GradientBoostingClassifier, AdaBoostClassifier\n",
        "from sklearn.metrics import accuracy_score\n"
      ]
    },
    {
      "cell_type": "code",
      "execution_count": 30,
      "id": "bcc01856-148f-4a29-8449-09c34003c535",
      "metadata": {
        "id": "bcc01856-148f-4a29-8449-09c34003c535"
      },
      "outputs": [],
      "source": [
        "models = {\n",
        "    'LogisticRegression': LogisticRegression(),\n",
        "    'GaussianNB': GaussianNB(),\n",
        "    'SVC': SVC(),\n",
        "    'KNeighborsClassifier': KNeighborsClassifier(),\n",
        "    'DecisionTreeClassifier': DecisionTreeClassifier(),\n",
        "    'ExtraTreeClassifier': ExtraTreeClassifier(),\n",
        "    'RandomForestClassifier': RandomForestClassifier(),\n",
        "    'GradientBoostingClassifier': GradientBoostingClassifier(),\n",
        "    'BaggingClassifier': BaggingClassifier(),\n",
        "    'AdaBoostClassifier': AdaBoostClassifier(),\n",
        "}\n"
      ]
    },
    {
      "cell_type": "code",
      "execution_count": 31,
      "id": "b473d162-1566-431f-bdfe-f9b1165a26cb",
      "metadata": {
        "colab": {
          "base_uri": "https://localhost:8080/"
        },
        "id": "b473d162-1566-431f-bdfe-f9b1165a26cb",
        "outputId": "c63e4eae-dc99-4810-8884-27d89758b2d3"
      },
      "outputs": [
        {
          "name": "stdout",
          "output_type": "stream",
          "text": [
            "LogisticRegression model with accuracy: 0.9181818181818182\n",
            "GaussianNB model with accuracy: 0.9954545454545455\n",
            "SVC model with accuracy: 0.9681818181818181\n",
            "KNeighborsClassifier model with accuracy: 0.9681818181818181\n",
            "DecisionTreeClassifier model with accuracy: 0.9863636363636363\n",
            "ExtraTreeClassifier model with accuracy: 0.9136363636363637\n",
            "RandomForestClassifier model with accuracy: 0.9931818181818182\n",
            "GradientBoostingClassifier model with accuracy: 0.9818181818181818\n",
            "BaggingClassifier model with accuracy: 0.9886363636363636\n",
            "AdaBoostClassifier model with accuracy: 0.14545454545454545\n"
          ]
        }
      ],
      "source": [
        "for name, model in models.items():\n",
        "    model.fit(x_train, y_train)\n",
        "    y_pred = model.predict(x_test)\n",
        "    score = accuracy_score(y_test, y_pred)\n",
        "    print(f\"{name} model with accuracy: {score}\")"
      ]
    },
    {
      "cell_type": "code",
      "execution_count": 42,
      "id": "a4rP-WzI11eh",
      "metadata": {
        "colab": {
          "base_uri": "https://localhost:8080/"
        },
        "id": "a4rP-WzI11eh",
        "outputId": "7218c5a2-dc7b-4a19-ea11-64b39f9d78d6"
      },
      "outputs": [
        {
          "name": "stdout",
          "output_type": "stream",
          "text": [
            "    N   P   K  temperature  humidity    ph  rainfall predicted_crop\n",
            "0  68  56  33        20.36     88.36  6.20    218.68           rice\n",
            "1  92  30  42        20.66     85.39  8.10    288.04           rice\n",
            "2  68  51  38        21.15     82.84  7.65    155.29           jute\n",
            "3  98  52  40        27.50     74.48  7.69    221.65           rice\n",
            "4  88  41  45        23.74     88.75  5.63    204.12           rice\n",
            "5  80  56  47        24.63     74.17  8.47    165.30           jute\n",
            "6  72  50  47        21.40     82.47  7.83    209.93           rice\n",
            "7  81  34  30        21.88     72.38  7.57    283.66           rice\n",
            "8  90  40  49        28.59     83.71  7.38    284.89           rice\n",
            "9  78  45  40        21.88     85.35  7.05    237.09           rice\n"
          ]
        }
      ],
      "source": [
        "print(samples_df)"
      ]
    },
    {
      "cell_type": "code",
      "execution_count": 43,
      "id": "yuLCrDyy1qMS",
      "metadata": {
        "colab": {
          "base_uri": "https://localhost:8080/"
        },
        "id": "yuLCrDyy1qMS",
        "outputId": "32b2eabf-7e68-4ca8-cc68-41bed31a888a"
      },
      "outputs": [
        {
          "name": "stdout",
          "output_type": "stream",
          "text": [
            "\n",
            "LogisticRegression Predictions:\n",
            "[ 1  1 21  1  1 21 21  1  1  1]\n",
            "\n",
            "GaussianNB Predictions:\n",
            "[ 1  1  1 21 21 21  1 22  1  1]\n",
            "\n",
            "SVC Predictions:\n",
            "[ 1  1 21 21  1 21 21  1  1  1]\n",
            "\n",
            "KNeighborsClassifier Predictions:\n",
            "[ 1  1 21 21 21 21  1  1  1  1]\n",
            "\n",
            "DecisionTreeClassifier Predictions:\n",
            "[ 1 14  1  1  1  1  1 21  1  1]\n",
            "\n",
            "ExtraTreeClassifier Predictions:\n",
            "[ 1 22 21 21  1 21  1 22  1  1]\n",
            "\n",
            "RandomForestClassifier Predictions:\n",
            "[ 1  1  1  1  1 21  1 22  1  1]\n",
            "\n",
            "GradientBoostingClassifier Predictions:\n",
            "[ 1  1 21  1  1 21  1  1  1  1]\n",
            "\n",
            "BaggingClassifier Predictions:\n",
            "[ 1 14  1  1  1 21  1  1  1  1]\n",
            "\n",
            "AdaBoostClassifier Predictions:\n",
            "[12 12 12 12 12 12 12 12 12 12]\n"
          ]
        }
      ],
      "source": [
        "# Scale the sample data using the same MinMaxScaler\n",
        "X_test_samples_scaled = mx.transform(X_test_samples)  # Use the same scaler from training\n",
        "\n",
        "# Predict using the trained models\n",
        "for name, model in models.items():\n",
        "    predictions = model.predict(X_test_samples_scaled)  # Predict on scaled data\n",
        "    print(f\"\\n{name} Predictions:\")\n",
        "    print(predictions)\n"
      ]
    },
    {
      "cell_type": "code",
      "execution_count": 44,
      "id": "PrlzlukB2nQ0",
      "metadata": {
        "colab": {
          "base_uri": "https://localhost:8080/"
        },
        "id": "PrlzlukB2nQ0",
        "outputId": "ca9bc6d3-b2cf-4711-f8cb-b1e0777cdb29"
      },
      "outputs": [
        {
          "name": "stdout",
          "output_type": "stream",
          "text": [
            "Predictions saved to scaled_model_predictions.csv\n"
          ]
        }
      ],
      "source": [
        "predictions_df = samples_df.copy()  # Keep original sample data\n",
        "X_test_samples_scaled = mx.transform(X_test_samples)  # Scale new inputs\n",
        "\n",
        "for name, model in models.items():\n",
        "    predictions_df[name + \"_Prediction\"] = model.predict(X_test_samples_scaled)\n",
        "\n",
        "# Save to CSV\n",
        "output_file = \"scaled_model_predictions.csv\"\n",
        "predictions_df.to_csv(output_file, index=False)\n",
        "\n",
        "print(f\"Predictions saved to {output_file}\")\n"
      ]
    },
    {
      "cell_type": "code",
      "execution_count": 46,
      "id": "v3iE62VW22TQ",
      "metadata": {
        "colab": {
          "base_uri": "https://localhost:8080/"
        },
        "id": "v3iE62VW22TQ",
        "outputId": "5a3028b2-f191-41fd-958d-f8bd42dcefc2"
      },
      "outputs": [
        {
          "name": "stdout",
          "output_type": "stream",
          "text": [
            "LogisticRegression Accuracy on Sample Data: 0.9000\n",
            "GaussianNB Accuracy on Sample Data: 0.6000\n",
            "SVC Accuracy on Sample Data: 0.8000\n",
            "KNeighborsClassifier Accuracy on Sample Data: 0.8000\n",
            "DecisionTreeClassifier Accuracy on Sample Data: 0.6000\n",
            "ExtraTreeClassifier Accuracy on Sample Data: 0.7000\n",
            "RandomForestClassifier Accuracy on Sample Data: 0.8000\n",
            "GradientBoostingClassifier Accuracy on Sample Data: 1.0000\n",
            "BaggingClassifier Accuracy on Sample Data: 0.8000\n",
            "AdaBoostClassifier Accuracy on Sample Data: 0.0000\n"
          ]
        }
      ],
      "source": [
        "from sklearn.metrics import accuracy_score\n",
        "\n",
        "# Assuming `true_labels` are the actual correct crops (if available)\n",
        "# Map true crop labels to numeric values\n",
        "true_labels = samples_df[\"predicted_crop\"].map(crop_dict)  # Convert to numeric labels\n",
        "\n",
        "X_test_samples_scaled = mx.transform(X_test_samples)\n",
        "\n",
        "for name, model in models.items():\n",
        "    y_pred = model.predict(X_test_samples_scaled)  # Model predictions\n",
        "    accuracy = accuracy_score(true_labels, y_pred)  # Compare encoded labels\n",
        "    print(f\"{name} Accuracy on Sample Data: {accuracy:.4f}\")\n"
      ]
    },
    {
      "cell_type": "code",
      "execution_count": 47,
      "id": "DpRW0Xbg5U-I",
      "metadata": {
        "colab": {
          "base_uri": "https://localhost:8080/"
        },
        "id": "DpRW0Xbg5U-I",
        "outputId": "d8650148-efe4-47e6-fff8-0ab9ffe66e76"
      },
      "outputs": [
        {
          "name": "stdout",
          "output_type": "stream",
          "text": [
            "Saved LogisticRegression model to LogisticRegression_model.joblib\n",
            "Saved GaussianNB model to GaussianNB_model.joblib\n",
            "Saved SVC model to SVC_model.joblib\n",
            "Saved KNeighborsClassifier model to KNeighborsClassifier_model.joblib\n",
            "Saved DecisionTreeClassifier model to DecisionTreeClassifier_model.joblib\n",
            "Saved ExtraTreeClassifier model to ExtraTreeClassifier_model.joblib\n",
            "Saved RandomForestClassifier model to RandomForestClassifier_model.joblib\n",
            "Saved GradientBoostingClassifier model to GradientBoostingClassifier_model.joblib\n",
            "Saved BaggingClassifier model to BaggingClassifier_model.joblib\n",
            "Saved AdaBoostClassifier model to AdaBoostClassifier_model.joblib\n"
          ]
        }
      ],
      "source": [
        "# saving all models above for reproducibility\n",
        "\n",
        "import joblib\n",
        "\n",
        "\n",
        "for name, model in models.items():\n",
        "    filename = f\"{name}_model.joblib\"\n",
        "    joblib.dump(model, filename)\n",
        "    print(f\"Saved {name} model to {filename}\")\n"
      ]
    }
  ],
  "metadata": {
    "colab": {
      "provenance": []
    },
    "kernelspec": {
      "display_name": "Python 3",
      "language": "python",
      "name": "python3"
    },
    "language_info": {
      "codemirror_mode": {
        "name": "ipython",
        "version": 3
      },
      "file_extension": ".py",
      "mimetype": "text/x-python",
      "name": "python",
      "nbconvert_exporter": "python",
      "pygments_lexer": "ipython3",
      "version": "3.12.8"
    }
  },
  "nbformat": 4,
  "nbformat_minor": 5
}
